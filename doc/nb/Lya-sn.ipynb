{
 "cells": [
  {
   "cell_type": "code",
   "execution_count": 1,
   "metadata": {},
   "outputs": [
    {
     "name": "stderr",
     "output_type": "stream",
     "text": [
      "WARNING: leap-second auto-update failed due to the following exception: RuntimeError('Cache is locked after 5.00 s. This may indicate an astropy bug or that kill -9 was used. If you want to unlock the cache remove the directory /global/homes/m/mjwilson/.astropy/cache/download/py3/lock. Lock claims to be held by process .') [astropy.time.core]\n"
     ]
    }
   ],
   "source": [
    "import pandas\n",
    "import numpy as np\n",
    "import pylab as pl\n",
    "import astropy.io.fits as fits\n",
    "import matplotlib.pyplot as plt\n",
    "\n",
    "from   astropy.table import Table, join\n",
    "from   astropy.convolution import convolve, Gaussian1DKernel\n",
    "from   desiutil.dust import mwdust_transmission"
   ]
  },
  {
   "cell_type": "markdown",
   "metadata": {},
   "source": [
    "## Set where to write Lya ensemble dflux."
   ]
  },
  {
   "cell_type": "code",
   "execution_count": 2,
   "metadata": {},
   "outputs": [],
   "source": [
    "outdir = '/project/projectdirs/desi/users/mjwilson/lya/'"
   ]
  },
  {
   "cell_type": "markdown",
   "metadata": {},
   "source": [
    "## Load a set of Vi'd Lya QSOs."
   ]
  },
  {
   "cell_type": "code",
   "execution_count": 3,
   "metadata": {},
   "outputs": [],
   "source": [
    "dat = fits.open('/project/projectdirs/desi/spectro/redux/cascades/tiles/80609/deep/coadd-0-80609-deep.fits')"
   ]
  },
  {
   "cell_type": "code",
   "execution_count": 4,
   "metadata": {},
   "outputs": [
    {
     "name": "stdout",
     "output_type": "stream",
     "text": [
      "Filename: /project/projectdirs/desi/spectro/redux/cascades/tiles/80609/deep/coadd-0-80609-deep.fits\n",
      "No.    Name      Ver    Type      Cards   Dimensions   Format\n",
      "  0  PRIMARY       1 PrimaryHDU      36   ()      \n",
      "  1  FIBERMAP      1 BinTableHDU    196   500R x 92C   [K, I, J, K, J, J, D, D, E, E, E, E, K, B, 3A, I, J, D, J, 4A, E, E, E, E, E, E, K, 2A, E, E, E, E, E, E, E, E, E, E, E, E, E, I, E, E, E, E, 1A, K, K, K, K, K, J, J, 8A, J, E, E, E, E, K, K, K, K, J, I, E, E, E, E, E, E, E, D, D, E, E, J, J, I, J, J, I, J, J, I, J, J, I, E, E, I]   \n",
      "  2  B_WAVELENGTH    1 ImageHDU        10   (2751,)   float64   \n",
      "  3  B_FLUX        1 ImageHDU        11   (2751, 500)   float32   \n",
      "  4  B_IVAR        1 ImageHDU        11   (2751, 500)   float32   \n",
      "  5  B_MASK        1 ImageHDU        12   (2751, 500)   int32 (rescales to uint32)   \n",
      "  6  B_RESOLUTION    1 ImageHDU        11   (2751, 11, 500)   float32   \n",
      "  7  R_WAVELENGTH    1 ImageHDU        10   (2326,)   float64   \n",
      "  8  R_FLUX        1 ImageHDU        11   (2326, 500)   float32   \n",
      "  9  R_IVAR        1 ImageHDU        11   (2326, 500)   float32   \n",
      " 10  R_MASK        1 ImageHDU        12   (2326, 500)   int32 (rescales to uint32)   \n",
      " 11  R_RESOLUTION    1 ImageHDU        11   (2326, 11, 500)   float32   \n",
      " 12  Z_WAVELENGTH    1 ImageHDU        10   (2881,)   float64   \n",
      " 13  Z_FLUX        1 ImageHDU        11   (2881, 500)   float32   \n",
      " 14  Z_IVAR        1 ImageHDU        11   (2881, 500)   float32   \n",
      " 15  Z_MASK        1 ImageHDU        12   (2881, 500)   int32 (rescales to uint32)   \n",
      " 16  Z_RESOLUTION    1 ImageHDU        11   (2881, 11, 500)   float32   \n",
      " 17  SCORES        1 BinTableHDU     64   500R x 26C   [K, E, E, E, E, E, E, E, E, E, E, E, E, E, E, E, E, E, E, E, E, E, E, E, E, E]   \n"
     ]
    }
   ],
   "source": [
    "dat.info()"
   ]
  },
  {
   "cell_type": "code",
   "execution_count": 5,
   "metadata": {},
   "outputs": [],
   "source": [
    "vi = pandas.read_csv('/project/projectdirs/desi/sv/vi/TruthTables/Blanc/QSO/desi-vi_QSO_tile80609_nightdeep_merged_all_210210_ADDING_object_info.csv')"
   ]
  },
  {
   "cell_type": "code",
   "execution_count": 6,
   "metadata": {},
   "outputs": [
    {
     "data": {
      "text/html": [
       "<div>\n",
       "<style scoped>\n",
       "    .dataframe tbody tr th:only-of-type {\n",
       "        vertical-align: middle;\n",
       "    }\n",
       "\n",
       "    .dataframe tbody tr th {\n",
       "        vertical-align: top;\n",
       "    }\n",
       "\n",
       "    .dataframe thead th {\n",
       "        text-align: right;\n",
       "    }\n",
       "</style>\n",
       "<table border=\"1\" class=\"dataframe\">\n",
       "  <thead>\n",
       "    <tr style=\"text-align: right;\">\n",
       "      <th></th>\n",
       "      <th>TARGETID</th>\n",
       "      <th>Redrock_z</th>\n",
       "      <th>best_z</th>\n",
       "      <th>best_quality</th>\n",
       "      <th>Redrock_spectype</th>\n",
       "      <th>best_spectype</th>\n",
       "      <th>all_VI_issues</th>\n",
       "      <th>all_VI_comments</th>\n",
       "      <th>merger_comment</th>\n",
       "      <th>N_VI</th>\n",
       "      <th>...</th>\n",
       "      <th>TARGET_DEC</th>\n",
       "      <th>FIBER</th>\n",
       "      <th>FLUX_G</th>\n",
       "      <th>FLUX_R</th>\n",
       "      <th>FLUX_Z</th>\n",
       "      <th>FIBERFLUX_G</th>\n",
       "      <th>FIBERFLUX_R</th>\n",
       "      <th>FIBERFLUX_Z</th>\n",
       "      <th>EBV</th>\n",
       "      <th>TILEID</th>\n",
       "    </tr>\n",
       "  </thead>\n",
       "  <tbody>\n",
       "    <tr>\n",
       "      <th>0</th>\n",
       "      <td>39627829524039394</td>\n",
       "      <td>1.6931</td>\n",
       "      <td>1.69310</td>\n",
       "      <td>0.5</td>\n",
       "      <td>GALAXY</td>\n",
       "      <td>GALAXY</td>\n",
       "      <td>NaN</td>\n",
       "      <td>NaN</td>\n",
       "      <td>none</td>\n",
       "      <td>2</td>\n",
       "      <td>...</td>\n",
       "      <td>1.752923</td>\n",
       "      <td>438</td>\n",
       "      <td>0.385813</td>\n",
       "      <td>0.515996</td>\n",
       "      <td>0.598839</td>\n",
       "      <td>0.300336</td>\n",
       "      <td>0.401676</td>\n",
       "      <td>0.466165</td>\n",
       "      <td>0.016876</td>\n",
       "      <td>80609</td>\n",
       "    </tr>\n",
       "    <tr>\n",
       "      <th>1</th>\n",
       "      <td>39627829524040643</td>\n",
       "      <td>2.2691</td>\n",
       "      <td>2.26910</td>\n",
       "      <td>4.0</td>\n",
       "      <td>QSO</td>\n",
       "      <td>QSO</td>\n",
       "      <td>NaN</td>\n",
       "      <td>Broad absorption line quasar (BAL)</td>\n",
       "      <td>none</td>\n",
       "      <td>2</td>\n",
       "      <td>...</td>\n",
       "      <td>1.667771</td>\n",
       "      <td>135</td>\n",
       "      <td>0.530947</td>\n",
       "      <td>0.741242</td>\n",
       "      <td>1.180120</td>\n",
       "      <td>0.413092</td>\n",
       "      <td>0.576708</td>\n",
       "      <td>0.918168</td>\n",
       "      <td>0.019317</td>\n",
       "      <td>80609</td>\n",
       "    </tr>\n",
       "    <tr>\n",
       "      <th>2</th>\n",
       "      <td>39627829524041987</td>\n",
       "      <td>0.4703</td>\n",
       "      <td>0.47030</td>\n",
       "      <td>4.0</td>\n",
       "      <td>GALAXY</td>\n",
       "      <td>GALAXY</td>\n",
       "      <td>NaN</td>\n",
       "      <td>Very strong lines</td>\n",
       "      <td>none</td>\n",
       "      <td>2</td>\n",
       "      <td>...</td>\n",
       "      <td>1.782316</td>\n",
       "      <td>129</td>\n",
       "      <td>0.926231</td>\n",
       "      <td>1.061355</td>\n",
       "      <td>1.531378</td>\n",
       "      <td>0.720136</td>\n",
       "      <td>0.825194</td>\n",
       "      <td>1.190633</td>\n",
       "      <td>0.018266</td>\n",
       "      <td>80609</td>\n",
       "    </tr>\n",
       "    <tr>\n",
       "      <th>3</th>\n",
       "      <td>39627829524042026</td>\n",
       "      <td>1.5114</td>\n",
       "      <td>1.51140</td>\n",
       "      <td>0.5</td>\n",
       "      <td>GALAXY</td>\n",
       "      <td>GALAXY</td>\n",
       "      <td>NaN</td>\n",
       "      <td>NaN</td>\n",
       "      <td>none</td>\n",
       "      <td>2</td>\n",
       "      <td>...</td>\n",
       "      <td>1.721449</td>\n",
       "      <td>131</td>\n",
       "      <td>0.736039</td>\n",
       "      <td>0.890336</td>\n",
       "      <td>1.164051</td>\n",
       "      <td>0.572194</td>\n",
       "      <td>0.692145</td>\n",
       "      <td>0.904929</td>\n",
       "      <td>0.019181</td>\n",
       "      <td>80609</td>\n",
       "    </tr>\n",
       "    <tr>\n",
       "      <th>4</th>\n",
       "      <td>39627829524042121</td>\n",
       "      <td>1.6035</td>\n",
       "      <td>3.54675</td>\n",
       "      <td>3.5</td>\n",
       "      <td>GALAXY</td>\n",
       "      <td>QSO</td>\n",
       "      <td>CR</td>\n",
       "      <td>4th fit is good</td>\n",
       "      <td>none</td>\n",
       "      <td>2</td>\n",
       "      <td>...</td>\n",
       "      <td>1.853810</td>\n",
       "      <td>446</td>\n",
       "      <td>0.628459</td>\n",
       "      <td>1.322023</td>\n",
       "      <td>1.568953</td>\n",
       "      <td>0.489187</td>\n",
       "      <td>1.029050</td>\n",
       "      <td>1.221258</td>\n",
       "      <td>0.018016</td>\n",
       "      <td>80609</td>\n",
       "    </tr>\n",
       "    <tr>\n",
       "      <th>...</th>\n",
       "      <td>...</td>\n",
       "      <td>...</td>\n",
       "      <td>...</td>\n",
       "      <td>...</td>\n",
       "      <td>...</td>\n",
       "      <td>...</td>\n",
       "      <td>...</td>\n",
       "      <td>...</td>\n",
       "      <td>...</td>\n",
       "      <td>...</td>\n",
       "      <td>...</td>\n",
       "      <td>...</td>\n",
       "      <td>...</td>\n",
       "      <td>...</td>\n",
       "      <td>...</td>\n",
       "      <td>...</td>\n",
       "      <td>...</td>\n",
       "      <td>...</td>\n",
       "      <td>...</td>\n",
       "      <td>...</td>\n",
       "      <td>...</td>\n",
       "    </tr>\n",
       "    <tr>\n",
       "      <th>1118</th>\n",
       "      <td>39627841595248046</td>\n",
       "      <td>0.9432</td>\n",
       "      <td>0.94320</td>\n",
       "      <td>4.0</td>\n",
       "      <td>GALAXY</td>\n",
       "      <td>GALAXY</td>\n",
       "      <td>NaN</td>\n",
       "      <td>NaN</td>\n",
       "      <td>none</td>\n",
       "      <td>2</td>\n",
       "      <td>...</td>\n",
       "      <td>2.343083</td>\n",
       "      <td>1747</td>\n",
       "      <td>0.346839</td>\n",
       "      <td>0.448074</td>\n",
       "      <td>0.705989</td>\n",
       "      <td>0.269614</td>\n",
       "      <td>0.348309</td>\n",
       "      <td>0.548798</td>\n",
       "      <td>0.020171</td>\n",
       "      <td>80609</td>\n",
       "    </tr>\n",
       "    <tr>\n",
       "      <th>1119</th>\n",
       "      <td>39627841595248587</td>\n",
       "      <td>1.6575</td>\n",
       "      <td>1.65750</td>\n",
       "      <td>2.5</td>\n",
       "      <td>GALAXY</td>\n",
       "      <td>GALAXY</td>\n",
       "      <td>NaN</td>\n",
       "      <td>NaN</td>\n",
       "      <td>One strong line must be at high-z but redshift...</td>\n",
       "      <td>2</td>\n",
       "      <td>...</td>\n",
       "      <td>2.258172</td>\n",
       "      <td>1706</td>\n",
       "      <td>0.341092</td>\n",
       "      <td>0.532386</td>\n",
       "      <td>0.512066</td>\n",
       "      <td>0.265190</td>\n",
       "      <td>0.413917</td>\n",
       "      <td>0.398118</td>\n",
       "      <td>0.019781</td>\n",
       "      <td>80609</td>\n",
       "    </tr>\n",
       "    <tr>\n",
       "      <th>1120</th>\n",
       "      <td>39627841595249678</td>\n",
       "      <td>0.0003</td>\n",
       "      <td>0.00030</td>\n",
       "      <td>4.0</td>\n",
       "      <td>STAR</td>\n",
       "      <td>STAR</td>\n",
       "      <td>NaN</td>\n",
       "      <td>NaN</td>\n",
       "      <td>none</td>\n",
       "      <td>2</td>\n",
       "      <td>...</td>\n",
       "      <td>2.126899</td>\n",
       "      <td>1191</td>\n",
       "      <td>1.764386</td>\n",
       "      <td>2.992544</td>\n",
       "      <td>3.909347</td>\n",
       "      <td>1.373909</td>\n",
       "      <td>2.330262</td>\n",
       "      <td>3.044169</td>\n",
       "      <td>0.019548</td>\n",
       "      <td>80609</td>\n",
       "    </tr>\n",
       "    <tr>\n",
       "      <th>1121</th>\n",
       "      <td>39627841595249823</td>\n",
       "      <td>0.0000</td>\n",
       "      <td>0.00000</td>\n",
       "      <td>4.0</td>\n",
       "      <td>STAR</td>\n",
       "      <td>STAR</td>\n",
       "      <td>NaN</td>\n",
       "      <td>NaN</td>\n",
       "      <td>none</td>\n",
       "      <td>2</td>\n",
       "      <td>...</td>\n",
       "      <td>2.264804</td>\n",
       "      <td>1738</td>\n",
       "      <td>-0.029482</td>\n",
       "      <td>0.035869</td>\n",
       "      <td>3.596277</td>\n",
       "      <td>0.000000</td>\n",
       "      <td>0.027899</td>\n",
       "      <td>2.797191</td>\n",
       "      <td>0.020232</td>\n",
       "      <td>80609</td>\n",
       "    </tr>\n",
       "    <tr>\n",
       "      <th>1122</th>\n",
       "      <td>39627841595250420</td>\n",
       "      <td>1.0238</td>\n",
       "      <td>1.02380</td>\n",
       "      <td>4.0</td>\n",
       "      <td>QSO</td>\n",
       "      <td>QSO</td>\n",
       "      <td>NaN</td>\n",
       "      <td>Broad lines from quasar + narrow emision lines...</td>\n",
       "      <td>none</td>\n",
       "      <td>2</td>\n",
       "      <td>...</td>\n",
       "      <td>2.220695</td>\n",
       "      <td>1532</td>\n",
       "      <td>4.524484</td>\n",
       "      <td>6.190771</td>\n",
       "      <td>9.151179</td>\n",
       "      <td>3.524395</td>\n",
       "      <td>4.822368</td>\n",
       "      <td>7.128410</td>\n",
       "      <td>0.019732</td>\n",
       "      <td>80609</td>\n",
       "    </tr>\n",
       "  </tbody>\n",
       "</table>\n",
       "<p>1123 rows × 24 columns</p>\n",
       "</div>"
      ],
      "text/plain": [
       "               TARGETID  Redrock_z   best_z  best_quality Redrock_spectype  \\\n",
       "0     39627829524039394     1.6931  1.69310           0.5           GALAXY   \n",
       "1     39627829524040643     2.2691  2.26910           4.0              QSO   \n",
       "2     39627829524041987     0.4703  0.47030           4.0           GALAXY   \n",
       "3     39627829524042026     1.5114  1.51140           0.5           GALAXY   \n",
       "4     39627829524042121     1.6035  3.54675           3.5           GALAXY   \n",
       "...                 ...        ...      ...           ...              ...   \n",
       "1118  39627841595248046     0.9432  0.94320           4.0           GALAXY   \n",
       "1119  39627841595248587     1.6575  1.65750           2.5           GALAXY   \n",
       "1120  39627841595249678     0.0003  0.00030           4.0             STAR   \n",
       "1121  39627841595249823     0.0000  0.00000           4.0             STAR   \n",
       "1122  39627841595250420     1.0238  1.02380           4.0              QSO   \n",
       "\n",
       "     best_spectype all_VI_issues  \\\n",
       "0           GALAXY           NaN   \n",
       "1              QSO           NaN   \n",
       "2           GALAXY           NaN   \n",
       "3           GALAXY           NaN   \n",
       "4              QSO            CR   \n",
       "...            ...           ...   \n",
       "1118        GALAXY           NaN   \n",
       "1119        GALAXY           NaN   \n",
       "1120          STAR           NaN   \n",
       "1121          STAR           NaN   \n",
       "1122           QSO           NaN   \n",
       "\n",
       "                                        all_VI_comments  \\\n",
       "0                                                   NaN   \n",
       "1                    Broad absorption line quasar (BAL)   \n",
       "2                                     Very strong lines   \n",
       "3                                                   NaN   \n",
       "4                                       4th fit is good   \n",
       "...                                                 ...   \n",
       "1118                                                NaN   \n",
       "1119                                                NaN   \n",
       "1120                                                NaN   \n",
       "1121                                                NaN   \n",
       "1122  Broad lines from quasar + narrow emision lines...   \n",
       "\n",
       "                                         merger_comment  N_VI  ...  \\\n",
       "0                                                  none     2  ...   \n",
       "1                                                  none     2  ...   \n",
       "2                                                  none     2  ...   \n",
       "3                                                  none     2  ...   \n",
       "4                                                  none     2  ...   \n",
       "...                                                 ...   ...  ...   \n",
       "1118                                               none     2  ...   \n",
       "1119  One strong line must be at high-z but redshift...     2  ...   \n",
       "1120                                               none     2  ...   \n",
       "1121                                               none     2  ...   \n",
       "1122                                               none     2  ...   \n",
       "\n",
       "      TARGET_DEC  FIBER    FLUX_G    FLUX_R    FLUX_Z  FIBERFLUX_G  \\\n",
       "0       1.752923    438  0.385813  0.515996  0.598839     0.300336   \n",
       "1       1.667771    135  0.530947  0.741242  1.180120     0.413092   \n",
       "2       1.782316    129  0.926231  1.061355  1.531378     0.720136   \n",
       "3       1.721449    131  0.736039  0.890336  1.164051     0.572194   \n",
       "4       1.853810    446  0.628459  1.322023  1.568953     0.489187   \n",
       "...          ...    ...       ...       ...       ...          ...   \n",
       "1118    2.343083   1747  0.346839  0.448074  0.705989     0.269614   \n",
       "1119    2.258172   1706  0.341092  0.532386  0.512066     0.265190   \n",
       "1120    2.126899   1191  1.764386  2.992544  3.909347     1.373909   \n",
       "1121    2.264804   1738 -0.029482  0.035869  3.596277     0.000000   \n",
       "1122    2.220695   1532  4.524484  6.190771  9.151179     3.524395   \n",
       "\n",
       "      FIBERFLUX_R  FIBERFLUX_Z       EBV  TILEID  \n",
       "0        0.401676     0.466165  0.016876   80609  \n",
       "1        0.576708     0.918168  0.019317   80609  \n",
       "2        0.825194     1.190633  0.018266   80609  \n",
       "3        0.692145     0.904929  0.019181   80609  \n",
       "4        1.029050     1.221258  0.018016   80609  \n",
       "...           ...          ...       ...     ...  \n",
       "1118     0.348309     0.548798  0.020171   80609  \n",
       "1119     0.413917     0.398118  0.019781   80609  \n",
       "1120     2.330262     3.044169  0.019548   80609  \n",
       "1121     0.027899     2.797191  0.020232   80609  \n",
       "1122     4.822368     7.128410  0.019732   80609  \n",
       "\n",
       "[1123 rows x 24 columns]"
      ]
     },
     "execution_count": 6,
     "metadata": {},
     "output_type": "execute_result"
    }
   ],
   "source": [
    "vi"
   ]
  },
  {
   "cell_type": "code",
   "execution_count": 7,
   "metadata": {},
   "outputs": [],
   "source": [
    "isin = (vi['best_spectype'] == 'QSO') & (vi['best_quality'] >= 2.5) & (vi['best_z'] >= 2.1)"
   ]
  },
  {
   "cell_type": "code",
   "execution_count": 8,
   "metadata": {},
   "outputs": [],
   "source": [
    "vi = vi[isin]"
   ]
  },
  {
   "cell_type": "code",
   "execution_count": 9,
   "metadata": {},
   "outputs": [
    {
     "data": {
      "text/html": [
       "<div>\n",
       "<style scoped>\n",
       "    .dataframe tbody tr th:only-of-type {\n",
       "        vertical-align: middle;\n",
       "    }\n",
       "\n",
       "    .dataframe tbody tr th {\n",
       "        vertical-align: top;\n",
       "    }\n",
       "\n",
       "    .dataframe thead th {\n",
       "        text-align: right;\n",
       "    }\n",
       "</style>\n",
       "<table border=\"1\" class=\"dataframe\">\n",
       "  <thead>\n",
       "    <tr style=\"text-align: right;\">\n",
       "      <th></th>\n",
       "      <th>TARGETID</th>\n",
       "      <th>Redrock_z</th>\n",
       "      <th>best_z</th>\n",
       "      <th>best_quality</th>\n",
       "      <th>Redrock_spectype</th>\n",
       "      <th>best_spectype</th>\n",
       "      <th>all_VI_issues</th>\n",
       "      <th>all_VI_comments</th>\n",
       "      <th>merger_comment</th>\n",
       "      <th>N_VI</th>\n",
       "      <th>...</th>\n",
       "      <th>TARGET_DEC</th>\n",
       "      <th>FIBER</th>\n",
       "      <th>FLUX_G</th>\n",
       "      <th>FLUX_R</th>\n",
       "      <th>FLUX_Z</th>\n",
       "      <th>FIBERFLUX_G</th>\n",
       "      <th>FIBERFLUX_R</th>\n",
       "      <th>FIBERFLUX_Z</th>\n",
       "      <th>EBV</th>\n",
       "      <th>TILEID</th>\n",
       "    </tr>\n",
       "  </thead>\n",
       "  <tbody>\n",
       "    <tr>\n",
       "      <th>1</th>\n",
       "      <td>39627829524040643</td>\n",
       "      <td>2.2691</td>\n",
       "      <td>2.26910</td>\n",
       "      <td>4.0</td>\n",
       "      <td>QSO</td>\n",
       "      <td>QSO</td>\n",
       "      <td>NaN</td>\n",
       "      <td>Broad absorption line quasar (BAL)</td>\n",
       "      <td>none</td>\n",
       "      <td>2</td>\n",
       "      <td>...</td>\n",
       "      <td>1.667771</td>\n",
       "      <td>135</td>\n",
       "      <td>0.530947</td>\n",
       "      <td>0.741242</td>\n",
       "      <td>1.180120</td>\n",
       "      <td>0.413092</td>\n",
       "      <td>0.576708</td>\n",
       "      <td>0.918168</td>\n",
       "      <td>0.019317</td>\n",
       "      <td>80609</td>\n",
       "    </tr>\n",
       "    <tr>\n",
       "      <th>4</th>\n",
       "      <td>39627829524042121</td>\n",
       "      <td>1.6035</td>\n",
       "      <td>3.54675</td>\n",
       "      <td>3.5</td>\n",
       "      <td>GALAXY</td>\n",
       "      <td>QSO</td>\n",
       "      <td>CR</td>\n",
       "      <td>4th fit is good</td>\n",
       "      <td>none</td>\n",
       "      <td>2</td>\n",
       "      <td>...</td>\n",
       "      <td>1.853810</td>\n",
       "      <td>446</td>\n",
       "      <td>0.628459</td>\n",
       "      <td>1.322023</td>\n",
       "      <td>1.568953</td>\n",
       "      <td>0.489187</td>\n",
       "      <td>1.029050</td>\n",
       "      <td>1.221258</td>\n",
       "      <td>0.018016</td>\n",
       "      <td>80609</td>\n",
       "    </tr>\n",
       "    <tr>\n",
       "      <th>27</th>\n",
       "      <td>39627829540814899</td>\n",
       "      <td>3.0990</td>\n",
       "      <td>3.09900</td>\n",
       "      <td>4.0</td>\n",
       "      <td>QSO</td>\n",
       "      <td>QSO</td>\n",
       "      <td>NaN</td>\n",
       "      <td>NaN</td>\n",
       "      <td>none</td>\n",
       "      <td>2</td>\n",
       "      <td>...</td>\n",
       "      <td>1.679209</td>\n",
       "      <td>4114</td>\n",
       "      <td>1.767022</td>\n",
       "      <td>2.544136</td>\n",
       "      <td>2.797342</td>\n",
       "      <td>1.375546</td>\n",
       "      <td>1.980493</td>\n",
       "      <td>2.177602</td>\n",
       "      <td>0.025355</td>\n",
       "      <td>80609</td>\n",
       "    </tr>\n",
       "    <tr>\n",
       "      <th>35</th>\n",
       "      <td>39627829540818607</td>\n",
       "      <td>2.1667</td>\n",
       "      <td>2.16670</td>\n",
       "      <td>4.0</td>\n",
       "      <td>QSO</td>\n",
       "      <td>QSO</td>\n",
       "      <td>NaN</td>\n",
       "      <td>NaN</td>\n",
       "      <td>none</td>\n",
       "      <td>2</td>\n",
       "      <td>...</td>\n",
       "      <td>1.636106</td>\n",
       "      <td>4049</td>\n",
       "      <td>7.910844</td>\n",
       "      <td>8.692345</td>\n",
       "      <td>11.444419</td>\n",
       "      <td>6.149510</td>\n",
       "      <td>6.757012</td>\n",
       "      <td>8.896341</td>\n",
       "      <td>0.034550</td>\n",
       "      <td>80609</td>\n",
       "    </tr>\n",
       "    <tr>\n",
       "      <th>38</th>\n",
       "      <td>39627829540819238</td>\n",
       "      <td>2.7314</td>\n",
       "      <td>2.73140</td>\n",
       "      <td>4.0</td>\n",
       "      <td>QSO</td>\n",
       "      <td>QSO</td>\n",
       "      <td>NaN</td>\n",
       "      <td>NaN</td>\n",
       "      <td>none</td>\n",
       "      <td>2</td>\n",
       "      <td>...</td>\n",
       "      <td>1.710213</td>\n",
       "      <td>4010</td>\n",
       "      <td>0.266408</td>\n",
       "      <td>0.374916</td>\n",
       "      <td>0.364012</td>\n",
       "      <td>0.207084</td>\n",
       "      <td>0.291430</td>\n",
       "      <td>0.282953</td>\n",
       "      <td>0.033394</td>\n",
       "      <td>80609</td>\n",
       "    </tr>\n",
       "    <tr>\n",
       "      <th>...</th>\n",
       "      <td>...</td>\n",
       "      <td>...</td>\n",
       "      <td>...</td>\n",
       "      <td>...</td>\n",
       "      <td>...</td>\n",
       "      <td>...</td>\n",
       "      <td>...</td>\n",
       "      <td>...</td>\n",
       "      <td>...</td>\n",
       "      <td>...</td>\n",
       "      <td>...</td>\n",
       "      <td>...</td>\n",
       "      <td>...</td>\n",
       "      <td>...</td>\n",
       "      <td>...</td>\n",
       "      <td>...</td>\n",
       "      <td>...</td>\n",
       "      <td>...</td>\n",
       "      <td>...</td>\n",
       "      <td>...</td>\n",
       "      <td>...</td>\n",
       "    </tr>\n",
       "    <tr>\n",
       "      <th>1095</th>\n",
       "      <td>39627841578471589</td>\n",
       "      <td>3.5778</td>\n",
       "      <td>3.57780</td>\n",
       "      <td>4.0</td>\n",
       "      <td>QSO</td>\n",
       "      <td>QSO</td>\n",
       "      <td>NaN</td>\n",
       "      <td>NaN</td>\n",
       "      <td>none</td>\n",
       "      <td>2</td>\n",
       "      <td>...</td>\n",
       "      <td>2.289424</td>\n",
       "      <td>1616</td>\n",
       "      <td>0.238451</td>\n",
       "      <td>0.522317</td>\n",
       "      <td>0.511614</td>\n",
       "      <td>0.185707</td>\n",
       "      <td>0.406783</td>\n",
       "      <td>0.398447</td>\n",
       "      <td>0.039358</td>\n",
       "      <td>80609</td>\n",
       "    </tr>\n",
       "    <tr>\n",
       "      <th>1098</th>\n",
       "      <td>39627841582664996</td>\n",
       "      <td>2.2188</td>\n",
       "      <td>2.21880</td>\n",
       "      <td>4.0</td>\n",
       "      <td>QSO</td>\n",
       "      <td>QSO</td>\n",
       "      <td>NaN</td>\n",
       "      <td>NaN</td>\n",
       "      <td>none</td>\n",
       "      <td>2</td>\n",
       "      <td>...</td>\n",
       "      <td>2.127683</td>\n",
       "      <td>1107</td>\n",
       "      <td>19.235744</td>\n",
       "      <td>20.937107</td>\n",
       "      <td>30.188473</td>\n",
       "      <td>14.977990</td>\n",
       "      <td>16.302763</td>\n",
       "      <td>23.506376</td>\n",
       "      <td>0.023028</td>\n",
       "      <td>80609</td>\n",
       "    </tr>\n",
       "    <tr>\n",
       "      <th>1099</th>\n",
       "      <td>39627841582665660</td>\n",
       "      <td>2.2390</td>\n",
       "      <td>2.23900</td>\n",
       "      <td>4.0</td>\n",
       "      <td>QSO</td>\n",
       "      <td>QSO</td>\n",
       "      <td>NaN</td>\n",
       "      <td>Broad absorption line quasar (BAL)</td>\n",
       "      <td>none</td>\n",
       "      <td>2</td>\n",
       "      <td>...</td>\n",
       "      <td>2.293336</td>\n",
       "      <td>1869</td>\n",
       "      <td>3.223135</td>\n",
       "      <td>3.265966</td>\n",
       "      <td>3.875417</td>\n",
       "      <td>2.509646</td>\n",
       "      <td>2.542995</td>\n",
       "      <td>3.017535</td>\n",
       "      <td>0.024471</td>\n",
       "      <td>80609</td>\n",
       "    </tr>\n",
       "    <tr>\n",
       "      <th>1102</th>\n",
       "      <td>39627841586856489</td>\n",
       "      <td>2.1635</td>\n",
       "      <td>2.16350</td>\n",
       "      <td>4.0</td>\n",
       "      <td>QSO</td>\n",
       "      <td>QSO</td>\n",
       "      <td>NaN</td>\n",
       "      <td>Damped Lyman-alpha system (DLA) Broad absorpti...</td>\n",
       "      <td>none</td>\n",
       "      <td>2</td>\n",
       "      <td>...</td>\n",
       "      <td>2.262122</td>\n",
       "      <td>1899</td>\n",
       "      <td>0.482147</td>\n",
       "      <td>1.053065</td>\n",
       "      <td>2.595857</td>\n",
       "      <td>0.375379</td>\n",
       "      <td>0.819870</td>\n",
       "      <td>2.021020</td>\n",
       "      <td>0.020108</td>\n",
       "      <td>80609</td>\n",
       "    </tr>\n",
       "    <tr>\n",
       "      <th>1117</th>\n",
       "      <td>39627841591055245</td>\n",
       "      <td>2.4228</td>\n",
       "      <td>2.41780</td>\n",
       "      <td>4.0</td>\n",
       "      <td>QSO</td>\n",
       "      <td>QSO</td>\n",
       "      <td>R</td>\n",
       "      <td>Broad absorption line quasar (BAL)</td>\n",
       "      <td>none</td>\n",
       "      <td>2</td>\n",
       "      <td>...</td>\n",
       "      <td>2.291392</td>\n",
       "      <td>1808</td>\n",
       "      <td>1.358667</td>\n",
       "      <td>1.800855</td>\n",
       "      <td>2.379133</td>\n",
       "      <td>1.057618</td>\n",
       "      <td>1.401827</td>\n",
       "      <td>1.851972</td>\n",
       "      <td>0.019826</td>\n",
       "      <td>80609</td>\n",
       "    </tr>\n",
       "  </tbody>\n",
       "</table>\n",
       "<p>125 rows × 24 columns</p>\n",
       "</div>"
      ],
      "text/plain": [
       "               TARGETID  Redrock_z   best_z  best_quality Redrock_spectype  \\\n",
       "1     39627829524040643     2.2691  2.26910           4.0              QSO   \n",
       "4     39627829524042121     1.6035  3.54675           3.5           GALAXY   \n",
       "27    39627829540814899     3.0990  3.09900           4.0              QSO   \n",
       "35    39627829540818607     2.1667  2.16670           4.0              QSO   \n",
       "38    39627829540819238     2.7314  2.73140           4.0              QSO   \n",
       "...                 ...        ...      ...           ...              ...   \n",
       "1095  39627841578471589     3.5778  3.57780           4.0              QSO   \n",
       "1098  39627841582664996     2.2188  2.21880           4.0              QSO   \n",
       "1099  39627841582665660     2.2390  2.23900           4.0              QSO   \n",
       "1102  39627841586856489     2.1635  2.16350           4.0              QSO   \n",
       "1117  39627841591055245     2.4228  2.41780           4.0              QSO   \n",
       "\n",
       "     best_spectype all_VI_issues  \\\n",
       "1              QSO           NaN   \n",
       "4              QSO            CR   \n",
       "27             QSO           NaN   \n",
       "35             QSO           NaN   \n",
       "38             QSO           NaN   \n",
       "...            ...           ...   \n",
       "1095           QSO           NaN   \n",
       "1098           QSO           NaN   \n",
       "1099           QSO           NaN   \n",
       "1102           QSO           NaN   \n",
       "1117           QSO             R   \n",
       "\n",
       "                                        all_VI_comments merger_comment  N_VI  \\\n",
       "1                    Broad absorption line quasar (BAL)           none     2   \n",
       "4                                       4th fit is good           none     2   \n",
       "27                                                  NaN           none     2   \n",
       "35                                                  NaN           none     2   \n",
       "38                                                  NaN           none     2   \n",
       "...                                                 ...            ...   ...   \n",
       "1095                                                NaN           none     2   \n",
       "1098                                                NaN           none     2   \n",
       "1099                 Broad absorption line quasar (BAL)           none     2   \n",
       "1102  Damped Lyman-alpha system (DLA) Broad absorpti...           none     2   \n",
       "1117                 Broad absorption line quasar (BAL)           none     2   \n",
       "\n",
       "      ...  TARGET_DEC  FIBER     FLUX_G     FLUX_R     FLUX_Z  FIBERFLUX_G  \\\n",
       "1     ...    1.667771    135   0.530947   0.741242   1.180120     0.413092   \n",
       "4     ...    1.853810    446   0.628459   1.322023   1.568953     0.489187   \n",
       "27    ...    1.679209   4114   1.767022   2.544136   2.797342     1.375546   \n",
       "35    ...    1.636106   4049   7.910844   8.692345  11.444419     6.149510   \n",
       "38    ...    1.710213   4010   0.266408   0.374916   0.364012     0.207084   \n",
       "...   ...         ...    ...        ...        ...        ...          ...   \n",
       "1095  ...    2.289424   1616   0.238451   0.522317   0.511614     0.185707   \n",
       "1098  ...    2.127683   1107  19.235744  20.937107  30.188473    14.977990   \n",
       "1099  ...    2.293336   1869   3.223135   3.265966   3.875417     2.509646   \n",
       "1102  ...    2.262122   1899   0.482147   1.053065   2.595857     0.375379   \n",
       "1117  ...    2.291392   1808   1.358667   1.800855   2.379133     1.057618   \n",
       "\n",
       "      FIBERFLUX_R  FIBERFLUX_Z       EBV  TILEID  \n",
       "1        0.576708     0.918168  0.019317   80609  \n",
       "4        1.029050     1.221258  0.018016   80609  \n",
       "27       1.980493     2.177602  0.025355   80609  \n",
       "35       6.757012     8.896341  0.034550   80609  \n",
       "38       0.291430     0.282953  0.033394   80609  \n",
       "...           ...          ...       ...     ...  \n",
       "1095     0.406783     0.398447  0.039358   80609  \n",
       "1098    16.302763    23.506376  0.023028   80609  \n",
       "1099     2.542995     3.017535  0.024471   80609  \n",
       "1102     0.819870     2.021020  0.020108   80609  \n",
       "1117     1.401827     1.851972  0.019826   80609  \n",
       "\n",
       "[125 rows x 24 columns]"
      ]
     },
     "execution_count": 9,
     "metadata": {},
     "output_type": "execute_result"
    }
   ],
   "source": [
    "vi"
   ]
  },
  {
   "cell_type": "code",
   "execution_count": 10,
   "metadata": {},
   "outputs": [],
   "source": [
    "tids = vi['TARGETID']"
   ]
  },
  {
   "cell_type": "code",
   "execution_count": 11,
   "metadata": {},
   "outputs": [],
   "source": [
    "gauss_kernel = Gaussian1DKernel(15)"
   ]
  },
  {
   "cell_type": "code",
   "execution_count": 12,
   "metadata": {},
   "outputs": [],
   "source": [
    "isin = np.isin(dat['FIBERMAP'].data['TARGETID'], tids)"
   ]
  },
  {
   "cell_type": "code",
   "execution_count": 13,
   "metadata": {},
   "outputs": [],
   "source": [
    "fmap_ids = dat['FIBERMAP'].data['TARGETID'][isin]"
   ]
  },
  {
   "cell_type": "code",
   "execution_count": 14,
   "metadata": {},
   "outputs": [],
   "source": [
    "nin = np.count_nonzero(fmap_ids)"
   ]
  },
  {
   "cell_type": "code",
   "execution_count": 15,
   "metadata": {},
   "outputs": [],
   "source": [
    "gmags = 22.5 - 2.5*np.log10(dat['FIBERMAP'].data['FLUX_G'][isin] / mwdust_transmission(dat['FIBERMAP'].data['EBV'][isin], 'G', dat['FIBERMAP'].data['PHOTSYS'][isin]))"
   ]
  },
  {
   "cell_type": "code",
   "execution_count": 16,
   "metadata": {},
   "outputs": [
    {
     "data": {
      "text/plain": [
       "array([23.14369069, 23.30901504, 21.73717034, 20.97260533, 19.49456414,\n",
       "       23.26627334, 22.9816093 , 21.85685729, 21.9456096 , 23.12395454,\n",
       "       22.9451619 ])"
      ]
     },
     "execution_count": 16,
     "metadata": {},
     "output_type": "execute_result"
    }
   ],
   "source": [
    "gmags"
   ]
  },
  {
   "cell_type": "markdown",
   "metadata": {},
   "source": [
    "# Our QSOs"
   ]
  },
  {
   "cell_type": "code",
   "execution_count": 17,
   "metadata": {},
   "outputs": [
    {
     "data": {
      "image/png": "[encoded data removed]",
      "text/plain": [
       "<Figure size 360x3960 with 11 Axes>"
      ]
     },
     "metadata": {
      "needs_background": "light"
     },
     "output_type": "display_data"
    }
   ],
   "source": [
    "fig, axes = plt.subplots(nin, 1, figsize=(5, 5 * nin))\n",
    "\n",
    "for band in ['B','R','Z']:\n",
    "    for i, x in enumerate(dat['{}_FLUX'.format(band)].data[isin]):\n",
    "        axes[i].plot(dat['{}_WAVELENGTH'.format(band)].data,  convolve(x, gauss_kernel), lw=0.5)\n",
    "        axes[i].set_ylim(bottom=-0.5)"
   ]
  },
  {
   "cell_type": "markdown",
   "metadata": {},
   "source": [
    "# Take closest to g=22 to be our reference."
   ]
  },
  {
   "cell_type": "code",
   "execution_count": 18,
   "metadata": {},
   "outputs": [],
   "source": [
    "# Closest to 22.\n",
    "master_fluxes = {'gmag': gmags[7], 'tid': fmap_ids[7]}\n",
    "\n",
    "for band in ['B', 'R', 'Z']:\n",
    "    master_fluxes[band] = {'wave': dat['{}_WAVELENGTH'.format(band)].data, 'smoothflux': convolve(dat['{}_FLUX'.format(band)].data[isin][7], gauss_kernel), 'ivar': dat['{}_IVAR'.format(band)].data[isin][7]}"
   ]
  },
  {
   "cell_type": "code",
   "execution_count": 19,
   "metadata": {},
   "outputs": [
    {
     "data": {
      "text/plain": [
       "39627817440251438"
      ]
     },
     "execution_count": 19,
     "metadata": {},
     "output_type": "execute_result"
    }
   ],
   "source": [
    "master_fluxes['tid']"
   ]
  },
  {
   "cell_type": "code",
   "execution_count": 20,
   "metadata": {},
   "outputs": [
    {
     "data": {
      "text/plain": [
       "21.85685729142697"
      ]
     },
     "execution_count": 20,
     "metadata": {},
     "output_type": "execute_result"
    }
   ],
   "source": [
    "master_fluxes['gmag']"
   ]
  },
  {
   "cell_type": "code",
   "execution_count": 21,
   "metadata": {},
   "outputs": [
    {
     "data": {
      "text/html": [
       "<div>\n",
       "<style scoped>\n",
       "    .dataframe tbody tr th:only-of-type {\n",
       "        vertical-align: middle;\n",
       "    }\n",
       "\n",
       "    .dataframe tbody tr th {\n",
       "        vertical-align: top;\n",
       "    }\n",
       "\n",
       "    .dataframe thead th {\n",
       "        text-align: right;\n",
       "    }\n",
       "</style>\n",
       "<table border=\"1\" class=\"dataframe\">\n",
       "  <thead>\n",
       "    <tr style=\"text-align: right;\">\n",
       "      <th></th>\n",
       "      <th>TARGETID</th>\n",
       "      <th>Redrock_z</th>\n",
       "      <th>best_z</th>\n",
       "      <th>best_quality</th>\n",
       "      <th>Redrock_spectype</th>\n",
       "      <th>best_spectype</th>\n",
       "      <th>all_VI_issues</th>\n",
       "      <th>all_VI_comments</th>\n",
       "      <th>merger_comment</th>\n",
       "      <th>N_VI</th>\n",
       "      <th>...</th>\n",
       "      <th>TARGET_DEC</th>\n",
       "      <th>FIBER</th>\n",
       "      <th>FLUX_G</th>\n",
       "      <th>FLUX_R</th>\n",
       "      <th>FLUX_Z</th>\n",
       "      <th>FIBERFLUX_G</th>\n",
       "      <th>FIBERFLUX_R</th>\n",
       "      <th>FIBERFLUX_Z</th>\n",
       "      <th>EBV</th>\n",
       "      <th>TILEID</th>\n",
       "    </tr>\n",
       "  </thead>\n",
       "  <tbody>\n",
       "    <tr>\n",
       "      <th>895</th>\n",
       "      <td>39627817440251438</td>\n",
       "      <td>3.2105</td>\n",
       "      <td>3.2305</td>\n",
       "      <td>4.0</td>\n",
       "      <td>QSO</td>\n",
       "      <td>QSO</td>\n",
       "      <td>NaN</td>\n",
       "      <td>NaN</td>\n",
       "      <td>Slight redshift tweak</td>\n",
       "      <td>3</td>\n",
       "      <td>...</td>\n",
       "      <td>1.292851</td>\n",
       "      <td>133</td>\n",
       "      <td>1.696957</td>\n",
       "      <td>2.237144</td>\n",
       "      <td>2.549719</td>\n",
       "      <td>1.320867</td>\n",
       "      <td>1.741335</td>\n",
       "      <td>1.984635</td>\n",
       "      <td>0.021008</td>\n",
       "      <td>80609</td>\n",
       "    </tr>\n",
       "  </tbody>\n",
       "</table>\n",
       "<p>1 rows × 24 columns</p>\n",
       "</div>"
      ],
      "text/plain": [
       "              TARGETID  Redrock_z  best_z  best_quality Redrock_spectype  \\\n",
       "895  39627817440251438     3.2105  3.2305           4.0              QSO   \n",
       "\n",
       "    best_spectype all_VI_issues all_VI_comments         merger_comment  N_VI  \\\n",
       "895           QSO           NaN             NaN  Slight redshift tweak     3   \n",
       "\n",
       "     ...  TARGET_DEC  FIBER    FLUX_G    FLUX_R    FLUX_Z  FIBERFLUX_G  \\\n",
       "895  ...    1.292851    133  1.696957  2.237144  2.549719     1.320867   \n",
       "\n",
       "     FIBERFLUX_R  FIBERFLUX_Z       EBV  TILEID  \n",
       "895     1.741335     1.984635  0.021008   80609  \n",
       "\n",
       "[1 rows x 24 columns]"
      ]
     },
     "execution_count": 21,
     "metadata": {},
     "output_type": "execute_result"
    }
   ],
   "source": [
    "vi[vi['TARGETID'] == master_fluxes['tid']]"
   ]
  },
  {
   "cell_type": "code",
   "execution_count": 22,
   "metadata": {},
   "outputs": [],
   "source": [
    "master_fluxes['z'] = vi[vi['TARGETID'] == master_fluxes['tid']]['best_z']"
   ]
  },
  {
   "cell_type": "code",
   "execution_count": 23,
   "metadata": {},
   "outputs": [],
   "source": [
    "master_fluxes['continuum'] = 0.43"
   ]
  },
  {
   "cell_type": "code",
   "execution_count": 24,
   "metadata": {},
   "outputs": [
    {
     "data": {
      "text/plain": [
       "Text(0, 0.5, '1.e-17 ergs/s/cm2/A')"
      ]
     },
     "execution_count": 24,
     "metadata": {},
     "output_type": "execute_result"
    },
    {
     "data": {
      "image/png": "[encoded data removed]",
      "text/plain": [
       "<Figure size 432x288 with 1 Axes>"
      ]
     },
     "metadata": {
      "needs_background": "light"
     },
     "output_type": "display_data"
    }
   ],
   "source": [
    "pl.plot(master_fluxes['B']['wave'], master_fluxes['B']['smoothflux'])\n",
    "pl.axhline(master_fluxes['continuum'], c='k', lw=0.5)\n",
    "\n",
    "pl.xlabel('Wavelength [A]')\n",
    "pl.ylabel('1.e-17 ergs/s/cm2/A')"
   ]
  },
  {
   "cell_type": "markdown",
   "metadata": {},
   "source": [
    "## Later we use this (by eye) 'continuum' as our asymptotic 'signal' normalization at the blue end."
   ]
  },
  {
   "cell_type": "markdown",
   "metadata": {},
   "source": [
    "## Get a QSO n(z)"
   ]
  },
  {
   "cell_type": "code",
   "execution_count": 25,
   "metadata": {},
   "outputs": [],
   "source": [
    "# https://desi.lbl.gov/svn/code/desimodel/tags/0.14.0/data/targets/nz_qso.dat; \n",
    "# Number per sq. deg. per dz=0.1\n",
    "# Note: Cascades\n",
    "zlo, zhi, Nz = np.loadtxt('/global/common/software/desi/cori/desiconda/20200801-1.4.0-spec/code/desimodel/0.14.0/data/targets/nz_qso.dat', unpack=True)"
   ]
  },
  {
   "cell_type": "code",
   "execution_count": 26,
   "metadata": {},
   "outputs": [],
   "source": [
    "zmid = 0.5 * (zlo + zhi)"
   ]
  },
  {
   "cell_type": "code",
   "execution_count": 27,
   "metadata": {},
   "outputs": [],
   "source": [
    "Nz /= Nz.max()"
   ]
  },
  {
   "cell_type": "code",
   "execution_count": 28,
   "metadata": {},
   "outputs": [
    {
     "data": {
      "text/plain": [
       "Text(0.5, 0, 'z')"
      ]
     },
     "execution_count": 28,
     "metadata": {},
     "output_type": "execute_result"
    },
    {
     "data": {
      "image/png": "[encoded data removed]",
      "text/plain": [
       "<Figure size 432x288 with 1 Axes>"
      ]
     },
     "metadata": {
      "needs_background": "light"
     },
     "output_type": "display_data"
    }
   ],
   "source": [
    "pl.plot(zmid, Nz, c='k', lw=0.5)\n",
    "pl.xlabel('z')"
   ]
  },
  {
   "cell_type": "code",
   "execution_count": 29,
   "metadata": {},
   "outputs": [],
   "source": [
    "zs = np.random.uniform(0.0, 5.0, 500000)\n",
    "zs = np.sort(zs)"
   ]
  },
  {
   "cell_type": "code",
   "execution_count": 30,
   "metadata": {},
   "outputs": [],
   "source": [
    "# pl.hist(zs, bins=np.arange(0.0, 5.0, 0.1))"
   ]
  },
  {
   "cell_type": "code",
   "execution_count": 31,
   "metadata": {},
   "outputs": [],
   "source": [
    "draws = np.random.uniform(0.0, 1.0, 500000)"
   ]
  },
  {
   "cell_type": "code",
   "execution_count": 32,
   "metadata": {},
   "outputs": [],
   "source": [
    "idx = np.digitize(zs, bins=np.arange(0.0, 5.1, 0.1))"
   ]
  },
  {
   "cell_type": "code",
   "execution_count": 33,
   "metadata": {},
   "outputs": [],
   "source": [
    "probs = np.zeros_like(idx, dtype=np.float)"
   ]
  },
  {
   "cell_type": "code",
   "execution_count": 34,
   "metadata": {},
   "outputs": [],
   "source": [
    "for i, uid in enumerate(np.unique(idx)[:-1]):\n",
    "    probs[idx == uid] = Nz[i]"
   ]
  },
  {
   "cell_type": "code",
   "execution_count": 35,
   "metadata": {},
   "outputs": [
    {
     "data": {
      "text/plain": [
       "array([0.11374124, 0.08788356, 0.31034525, ..., 0.43908733, 0.66715796,\n",
       "       0.05194178])"
      ]
     },
     "execution_count": 35,
     "metadata": {},
     "output_type": "execute_result"
    }
   ],
   "source": [
    "draws"
   ]
  },
  {
   "cell_type": "code",
   "execution_count": 36,
   "metadata": {},
   "outputs": [
    {
     "data": {
      "text/plain": [
       "array([1.10132075e-10, 1.10132075e-10, 1.10132075e-10, ...,\n",
       "       0.00000000e+00, 0.00000000e+00, 0.00000000e+00])"
      ]
     },
     "execution_count": 36,
     "metadata": {},
     "output_type": "execute_result"
    }
   ],
   "source": [
    "probs"
   ]
  },
  {
   "cell_type": "code",
   "execution_count": 37,
   "metadata": {},
   "outputs": [],
   "source": [
    "isin = draws <= probs"
   ]
  },
  {
   "cell_type": "code",
   "execution_count": 38,
   "metadata": {},
   "outputs": [],
   "source": [
    "qso_zs = zs[isin]"
   ]
  },
  {
   "cell_type": "markdown",
   "metadata": {},
   "source": [
    "## Here we've drawn an ensemble of zs from this distribution."
   ]
  },
  {
   "cell_type": "code",
   "execution_count": 39,
   "metadata": {},
   "outputs": [
    {
     "data": {
      "text/plain": [
       "Text(0.5, 0, 'z')"
      ]
     },
     "execution_count": 39,
     "metadata": {},
     "output_type": "execute_result"
    },
    {
     "data": {
      "image/png": "[encoded data removed]",
      "text/plain": [
       "<Figure size 432x288 with 1 Axes>"
      ]
     },
     "metadata": {
      "needs_background": "light"
     },
     "output_type": "display_data"
    }
   ],
   "source": [
    "pl.plot(zmid, 5000. * Nz, c='k', lw=0.5)\n",
    "pl.hist(qso_zs, bins=np.arange(0.0, 5.0, 0.05), alpha=0.5)\n",
    "pl.xlabel('z')"
   ]
  },
  {
   "cell_type": "code",
   "execution_count": 40,
   "metadata": {},
   "outputs": [],
   "source": [
    "lya_zs = qso_zs[qso_zs > 2.1]"
   ]
  },
  {
   "cell_type": "code",
   "execution_count": 41,
   "metadata": {},
   "outputs": [
    {
     "data": {
      "text/plain": [
       "array([2.1000072 , 2.10001163, 2.10004188, ..., 4.67631916, 4.79821366,\n",
       "       4.80214468])"
      ]
     },
     "execution_count": 41,
     "metadata": {},
     "output_type": "execute_result"
    }
   ],
   "source": [
    "lya_zs "
   ]
  },
  {
   "cell_type": "code",
   "execution_count": 42,
   "metadata": {},
   "outputs": [],
   "source": [
    "# lya_zs = lya_zs[:2]"
   ]
  },
  {
   "cell_type": "code",
   "execution_count": 43,
   "metadata": {},
   "outputs": [],
   "source": [
    "# 1216. * (1. + lya_zs)"
   ]
  },
  {
   "cell_type": "code",
   "execution_count": 44,
   "metadata": {},
   "outputs": [],
   "source": [
    "nlya = len(lya_zs)"
   ]
  },
  {
   "cell_type": "markdown",
   "metadata": {},
   "source": [
    "###  Our 'signal' will be unity bluer than Lya for a given redshift (zero otherwise).  We then stack across the ensemble."
   ]
  },
  {
   "cell_type": "code",
   "execution_count": 45,
   "metadata": {},
   "outputs": [
    {
     "name": "stderr",
     "output_type": "stream",
     "text": [
      "<ipython-input-45-f174782ff96a>:19: RuntimeWarning: invalid value encountered in true_divide\n",
      "  zfactor /= np.sum(zfactor)\n",
      "<ipython-input-45-f174782ff96a>:19: RuntimeWarning: invalid value encountered in true_divide\n",
      "  zfactor /= np.sum(zfactor)\n"
     ]
    },
    {
     "data": {
      "image/png": "[encoded data removed]",
      "text/plain": [
       "<Figure size 432x288 with 1 Axes>"
      ]
     },
     "metadata": {
      "needs_background": "light"
     },
     "output_type": "display_data"
    }
   ],
   "source": [
    "bands      = ['B', 'R', 'Z']\n",
    "\n",
    "for band in bands:\n",
    "    wave   = dat['{}_WAVELENGTH'.format(band)].data\n",
    "    nwave  = wave[:,None] * np.ones(nlya, dtype=float)[None,:]\n",
    "    \n",
    "    weight = np.zeros(shape=(len(wave), nlya), dtype=float)\n",
    "    \n",
    "    for i, z in zip(range(nlya), lya_zs):\n",
    "        weight[nwave[:,i] < (1. + z) * 1216., i] = 1.0\n",
    "\n",
    "    mweight = np.mean(weight, axis=1)    \n",
    "    pl.plot(wave, mweight, label='{}'.format(band)) \n",
    "\n",
    "    for i, z in zip(range(nlya), lya_zs):    \n",
    "        zabs     = (wave / 1216.) - 1.\n",
    "        zfactor  = (1. + zabs)**(3.8/4.)   \n",
    "        zfactor[wave > (1. + z) * 1216.] = 0.          \n",
    "        zfactor /= np.sum(zfactor)\n",
    "            \n",
    "        weight[:,i] *= zfactor\n",
    "\n",
    "    zweight = np.mean(weight, axis=1)           \n",
    "    \n",
    "    if band == 'B':\n",
    "        pivot  = (1. + 2.1) * 1216.\n",
    "        znorm  = zweight[np.where(np.abs(wave - pivot) == np.abs(wave - pivot).min())[0]]\n",
    "    \n",
    "    zweight /= znorm\n",
    "    \n",
    "    pl.plot(wave, zweight, label='', linestyle='--', c='k') \n",
    "        \n",
    "    pl.axvline(1216. * 3.1, lw=0.1, c='k')\n",
    "    pl.xlabel('Wavelength [A]')\n",
    "    pl.ylabel('Lyman-alpha QSO signal')\n",
    "    pl.legend(frameon=False)"
   ]
  },
  {
   "cell_type": "markdown",
   "metadata": {},
   "source": [
    "### To DO:  the normalization of the z weighting (artifically?) drives the weighting lower rather than higher.  As, for high z, a greater wavelength range is available and the normalization is a large factor.  Figure this out."
   ]
  },
  {
   "cell_type": "code",
   "execution_count": 46,
   "metadata": {},
   "outputs": [
    {
     "data": {
      "text/plain": [
       "Text(0, 0.5, '1.e-17 ergs/s/cm2/A')"
      ]
     },
     "execution_count": 46,
     "metadata": {},
     "output_type": "execute_result"
    },
    {
     "data": {
      "image/png": "[encoded data removed]",
      "text/plain": [
       "<Figure size 432x288 with 1 Axes>"
      ]
     },
     "metadata": {
      "needs_background": "light"
     },
     "output_type": "display_data"
    }
   ],
   "source": [
    "tracer        = 'LYA'\n",
    "\n",
    "hdr           = fits.Header()\n",
    "hdr['NMODEL'] = nlya\n",
    "hdr['TRACER'] = tracer\n",
    "hdr['FILTER'] = 'decam2014-g'\n",
    "hdr['ZLO']    = 2.1\n",
    "        \n",
    "hdu_list      = [fits.PrimaryHDU(header=hdr)]\n",
    "\n",
    "for band in ['b', 'r', 'z']:\n",
    "    wave   = dat['{}_WAVELENGTH'.format(band)].data\n",
    "    nwave  = wave[:,None] * np.ones(nlya, dtype=float)[None,:]\n",
    "    \n",
    "    weight = np.zeros(shape=(len(wave), nlya), dtype=float)\n",
    "    \n",
    "    for i, z in zip(range(nlya), lya_zs):\n",
    "        weight[nwave[:,i] < (1. + z) * 1216., i] = 1.0\n",
    "    \n",
    "    weight   = np.mean(weight, axis=1)\n",
    "\n",
    "    pl.plot(wave, master_fluxes['continuum'] * weight)\n",
    "        \n",
    "    hdu_list.append(fits.ImageHDU(wave, name='WAVE_{}'.format(band.upper())))\n",
    "    hdu_list.append(fits.ImageHDU(weight, name='DFLUX_{}'.format(band.upper())))\n",
    "\n",
    "hdu_list = fits.HDUList(hdu_list)\n",
    "hdu_list.writeto('{}/tsnr-ensemble-{}.fits'.format(outdir, tracer.lower()), overwrite=True)\n",
    "\n",
    "pl.xlabel('Wavelength [A]')\n",
    "pl.ylabel('1.e-17 ergs/s/cm2/A')"
   ]
  },
  {
   "cell_type": "markdown",
   "metadata": {},
   "source": [
    "###  Finally, here we've used our reference continuum from above as the blue end normalization and write to disk at outdir."
   ]
  },
  {
   "cell_type": "markdown",
   "metadata": {},
   "source": [
    "# Done."
   ]
  }
 ],
 "metadata": {
  "kernelspec": {
   "display_name": "DESI master",
   "language": "python",
   "name": "desi-master"
  },
  "language_info": {
   "codemirror_mode": {
    "name": "ipython",
    "version": 3
   },
   "file_extension": ".py",
   "mimetype": "text/x-python",
   "name": "python",
   "nbconvert_exporter": "python",
   "pygments_lexer": "ipython3",
   "version": "3.8.3"
  },
  "latex_envs": {
   "LaTeX_envs_menu_present": true,
   "autoclose": false,
   "autocomplete": true,
   "bibliofile": "biblio.bib",
   "cite_by": "apalike",
   "current_citInitial": 1,
   "eqLabelWithNumbers": true,
   "eqNumInitial": 1,
   "hotkeys": {
    "equation": "Ctrl-E",
    "itemize": "Ctrl-I"
   },
   "labels_anchors": false,
   "latex_user_defs": false,
   "report_style_numbering": false,
   "user_envs_cfg": false
  },
  "nbTranslate": {
   "displayLangs": [
    "*"
   ],
   "hotkey": "alt-t",
   "langInMainMenu": true,
   "sourceLang": "en",
   "targetLang": "fr",
   "useGoogleTranslate": true
  }
 },
 "nbformat": 4,
 "nbformat_minor": 4
}
