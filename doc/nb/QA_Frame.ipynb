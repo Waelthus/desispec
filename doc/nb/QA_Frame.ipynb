{
 "cells": [
  {
   "cell_type": "markdown",
   "metadata": {},
   "source": [
    "# Developing/Testing QA Frame Class\n",
    "    v1.1 -- Flats, skysub\n",
    "    v1.2 -- Bias"
   ]
  },
  {
   "cell_type": "code",
   "execution_count": 19,
   "metadata": {},
   "outputs": [],
   "source": [
    "# imports\n",
    "from importlib import reload\n",
    "import os\n",
    "\n",
    "from desispec.qa import qa_frame\n",
    "from desispec.io import read_qa_frame\n",
    "from desispec.io import qa as desio_qa"
   ]
  },
  {
   "cell_type": "markdown",
   "metadata": {},
   "source": [
    "## Instantiate"
   ]
  },
  {
   "cell_type": "code",
   "execution_count": 7,
   "metadata": {},
   "outputs": [
    {
     "name": "stdout",
     "output_type": "stream",
     "text": [
      "QA_Frame: night=20200304, expid=53027, camera=z3, flavor=arc\n"
     ]
    }
   ],
   "source": [
    "reload(qa_frame)\n",
    "# Dummy dict\n",
    "fdict = {'20200304': {53027: {'flavor': 'arc', 'z3': {}}}}\n",
    "#\n",
    "qaframe = qa_frame.QA_Frame(fdict)\n",
    "print(qaframe)"
   ]
  },
  {
   "cell_type": "markdown",
   "metadata": {},
   "source": [
    "## Init SkySub"
   ]
  },
  {
   "cell_type": "code",
   "execution_count": 10,
   "metadata": {},
   "outputs": [
    {
     "name": "stdout",
     "output_type": "stream",
     "text": [
      "{'SKYSUB': {'PARAMS': {'PCHI_RESID': 0.05, 'PER_RESID': 95.0, 'BIN_SZ': 0.1, 'SKYRESID_WARN_RANGE': [-5.0, 5.0], 'SKYRESID_ALARM_RANGE': [-10.0, 10.0], 'B_CONT': [[4000.0, 4500.0], [5250.0, 5550.0]], 'R_CONT': [[5950.0, 6200.0], [6990.0, 7230.0]], 'Z_CONT': [[8120.0, 8270.0], [9110.0, 9280.0]], 'SKYCONT_WARN_RANGE': [100.0, 400.0], 'SKYCONT_ALARM_RANGE': [50.0, 600.0]}}}\n"
     ]
    }
   ],
   "source": [
    "fdict = {'20200304': {53027: {'flavor': 'science', 'z3': {}}}}\n",
    "#\n",
    "qaframe = qa_frame.QA_Frame(fdict)\n",
    "qaframe.init_skysub()\n",
    "print(qaframe.qa_data)"
   ]
  },
  {
   "cell_type": "markdown",
   "metadata": {},
   "source": [
    "## I/O"
   ]
  },
  {
   "cell_type": "code",
   "execution_count": 14,
   "metadata": {},
   "outputs": [
    {
     "data": {
      "text/plain": [
       "'tmp.yaml'"
      ]
     },
     "execution_count": 14,
     "metadata": {},
     "output_type": "execute_result"
    }
   ],
   "source": [
    "desio_qa.write_qa_frame('tmp.yaml', qaframe)"
   ]
  },
  {
   "cell_type": "code",
   "execution_count": 15,
   "metadata": {},
   "outputs": [],
   "source": [
    "qaframe = desio_qa.read_qa_frame('tmp.yaml')"
   ]
  },
  {
   "cell_type": "code",
   "execution_count": 16,
   "metadata": {},
   "outputs": [
    {
     "data": {
      "text/plain": [
       "QA_Frame: night=20200304, expid=53027, camera=z3, flavor=science"
      ]
     },
     "execution_count": 16,
     "metadata": {},
     "output_type": "execute_result"
    }
   ],
   "source": [
    "qaframe"
   ]
  },
  {
   "cell_type": "markdown",
   "metadata": {},
   "source": [
    "# Bias QA"
   ]
  },
  {
   "cell_type": "markdown",
   "metadata": {},
   "source": [
    "## Exposure"
   ]
  },
  {
   "cell_type": "code",
   "execution_count": 18,
   "metadata": {},
   "outputs": [],
   "source": [
    "dpath = '/data/DESI/DESI_SCRATCH/minisv2/data/20200304'"
   ]
  },
  {
   "cell_type": "code",
   "execution_count": 20,
   "metadata": {},
   "outputs": [],
   "source": [
    "dfile = os.path.join(dpath, '00053026', 'desi-00053025.fits.fz')"
   ]
  },
  {
   "cell_type": "markdown",
   "metadata": {},
   "source": [
    "----"
   ]
  },
  {
   "cell_type": "markdown",
   "metadata": {},
   "source": [
    "## Test FiberFlat QA"
   ]
  },
  {
   "cell_type": "markdown",
   "metadata": {},
   "source": [
    "### On JXP laptop first\n",
    "\n",
    "    desi_compute_fiberflat.py \\\n",
    "        --infile /Users/xavier/DESI/TST/dogwood/exposures/20150211/00000001/frame-b0-00000001.fits \\\n",
    "        --outfile /Users/xavier/DESI/TST/dogwood/calib2d/20150211/jxp-fflat-b0-00000001.fits \\\n",
    "        --fibermap /Users/xavier/DESI/TST/data/20150211/fibermap-00000002.fits \\\n",
    "        --qafile /Users/xavier/DESI/TST/dogwood/exposures/20150211/00000001/qa-b0-00000001.yaml \\\n",
    "        --qafig /Users/xavier/DESI/TST/dogwood/exposures/20150211/00000001/qa-fflat-b0-00000001.pdf"
   ]
  },
  {
   "cell_type": "markdown",
   "metadata": {},
   "source": [
    "### Now Edison (see below for setup)"
   ]
  },
  {
   "cell_type": "code",
   "execution_count": null,
   "metadata": {
    "collapsed": true
   },
   "outputs": [],
   "source": []
  },
  {
   "cell_type": "markdown",
   "metadata": {},
   "source": [
    "## Test SkySub QA"
   ]
  },
  {
   "cell_type": "markdown",
   "metadata": {},
   "source": [
    "### On JXP laptop first\n",
    "\n",
    "    desi_compute_sky.py \\\n",
    "        --infile /Users/xavier/DESI/TST/dogwood/exposures/20150211/00000002/frame-b0-00000002.fits \\\n",
    "        --fibermap /Users/xavier/DESI/TST/data/20150211/fibermap-00000002.fits \\\n",
    "        --fiberflat /Users/xavier/DESI/TST/dogwood/calib2d/20150211/fiberflat-b0-00000001.fits \\\n",
    "        --outfile /Users/xavier/DESI/TST/dogwood/exposures/20150211/00000002/sky2-b0-00000002.fits \\\n",
    "        --qafile /Users/xavier/DESI/TST/dogwood/exposures/20150211/00000002/qa-b0-00000002.yaml \\\n",
    "        --qafig /Users/xavier/DESI/TST/dogwood/exposures/20150211/00000002/qa-b0-00000002.pdf \\\n",
    "        > tmp.log"
   ]
  },
  {
   "cell_type": "code",
   "execution_count": 11,
   "metadata": {},
   "outputs": [
    {
     "data": {
      "text/plain": [
       "{u'SKYSUB': {u'PARAM': {'PCHI_RESID': 0.05},\n",
       "  u'QA': {'MED_RESID': 0.7486834745211439, 'NBAD_PCHI': 38, 'NSKY_FIB': 45}},\n",
       " 'camera': 'b0',\n",
       " 'flavor': 'science'}"
      ]
     },
     "execution_count": 11,
     "metadata": {},
     "output_type": "execute_result"
    }
   ],
   "source": [
    "# Read and print\n",
    "qaframe = desio_qa.read_qa_frame('/Users/xavier/DESI/TST/dogwood/exposures/20150211/00000002/qa-b0-00000002.yaml')\n",
    "qaframe.data"
   ]
  },
  {
   "cell_type": "markdown",
   "metadata": {},
   "source": [
    "### Now Edison\n",
    "    [edison ~] source env.sh\n",
    "    [edison ~] cd Python/desispec\n",
    "    [edison ~] git pull\n",
    "    [edison ~] cd\n",
    "    [edison ~] module use ~xavier/modules\n",
    "    [edison ~] module switch desispec/qa_exposure\n",
    "    [edison ~] cd qa_test\n",
    "\n",
    "    desi_compute_sky.py \\\n",
    "        --infile /project/projectdirs/desi/spectro/redux/sjb/dogwood/exposures/20150211/00000002/frame-b0-00000002.fits \\\n",
    "        --fibermap /project/projectdirs/desi/spectro/sim/alpha-5/20150211/fibermap-00000002.fits \\\n",
    "        --fiberflat /project/projectdirs/desi/spectro/redux/sjb/dogwood/calib2d/20150211/fiberflat-b0-00000001.fits \\\n",
    "        --outfile sky-b0-00000002.fits \\\n",
    "        --qafile qa-b0-00000002.yaml \\\n",
    "        --qafig qa-b0-00000002.pdf \\        \n",
    "        > qa_tst.log\n"
   ]
  },
  {
   "cell_type": "code",
   "execution_count": null,
   "metadata": {
    "collapsed": true
   },
   "outputs": [],
   "source": []
  }
 ],
 "metadata": {
  "kernelspec": {
   "display_name": "Python 3",
   "language": "python",
   "name": "python3"
  },
  "language_info": {
   "codemirror_mode": {
    "name": "ipython",
    "version": 3
   },
   "file_extension": ".py",
   "mimetype": "text/x-python",
   "name": "python",
   "nbconvert_exporter": "python",
   "pygments_lexer": "ipython3",
   "version": "3.7.3"
  }
 },
 "nbformat": 4,
 "nbformat_minor": 1
}
