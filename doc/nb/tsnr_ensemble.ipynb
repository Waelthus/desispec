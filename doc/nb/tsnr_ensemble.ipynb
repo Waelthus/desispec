{
 "cells": [
  {
   "cell_type": "code",
   "execution_count": 45,
   "metadata": {},
   "outputs": [],
   "source": [
    "import os\n",
    "import glob\n",
    "import yaml\n",
    "import fitsio\n",
    "import numpy as np\n",
    "import pylab as pl\n",
    "import matplotlib.pyplot as plt\n",
    "import astropy.io.fits as fits\n",
    "\n",
    "from desitarget.sv1.sv1_targetmask import desi_mask as sv1_desi_mask\n",
    "from desitarget.sv1.sv1_targetmask import bgs_mask as sv1_bgs_mask\n",
    "\n",
    "from desitarget.targetmask import desi_mask, bgs_mask\n",
    "\n",
    "from astropy.table import Table, vstack, join, unique\n",
    "from desiutil.dust import mwdust_transmission"
   ]
  },
  {
   "cell_type": "markdown",
   "metadata": {},
   "source": [
    "##  Generate config files for desispec/scripts/tsnr_ensemble.py"
   ]
  },
  {
   "cell_type": "markdown",
   "metadata": {},
   "source": [
    "Conveniently generated with e.g.\n",
    "\n",
    "```papermill tsnr_ensemble.ipynb $CSCRATCH/trash/pm.out -p tracer_type BGS_BRIGHT -p outdir /project/projectdirs/desi/users/mjwilson/tsnr/```"
   ]
  },
  {
   "cell_type": "code",
   "execution_count": 42,
   "metadata": {
    "tags": [
     "parameters"
    ]
   },
   "outputs": [],
   "source": [
    "# This cell is tagged parameters. \n",
    "# Define main survey tracer type to be studied.\n",
    "tracer_type   = 'LRG'  # ['BGS_BRIGHT', 'LRG', 'ELG', 'QSO']\n",
    "outdir        = '/project/projectdirs/desi/users/mjwilson/tsnr/'"
   ]
  },
  {
   "cell_type": "code",
   "execution_count": 44,
   "metadata": {},
   "outputs": [],
   "source": [
    "# Representative SV1 type for given main survey type. \n",
    "sv1_map       = {'BGS_BRIGHT': 'BGS_BRIGHT', 'LRG': 'LRG_IR', 'ELG': 'ELG_FDR_GFIB', 'QSO': 'QSO_RF_4PASS'}"
   ]
  },
  {
   "cell_type": "code",
   "execution_count": 3,
   "metadata": {},
   "outputs": [],
   "source": [
    "# E.g. https://github.com/desihub/desitarget/blob/dd353c6c8dd8b8737e45771ab903ac30584db6db/py/desitarget/cuts.py#L1434\n",
    "# Note: LRG is a cut on fiber mag., \n",
    "limiting_band = {'BGS': 'r', 'LRG': 'z', 'ELG': 'g', 'QSO': 'r'}"
   ]
  },
  {
   "cell_type": "code",
   "execution_count": 4,
   "metadata": {},
   "outputs": [],
   "source": [
    "np.random.seed(314)"
   ]
  },
  {
   "cell_type": "code",
   "execution_count": 5,
   "metadata": {},
   "outputs": [],
   "source": [
    "def imaging_fetch(npix=20, verbose=False):\n",
    "    '''\n",
    "    Return a main survey imaging catalog (random stack of size npix healpixels) of a given tracer. \n",
    "\n",
    "    input:\n",
    "        npix: number of healpixels in a random sample to gather.\n",
    "        verbose:  bool, print debugging \n",
    "    '''\n",
    "\n",
    "    base_type = tracer_type.split('_')[0]\n",
    "    \n",
    "    if base_type == 'BGS':\n",
    "        survey = 'bright'\n",
    "    else:\n",
    "        survey = 'dark'\n",
    "        \n",
    "    # Fetch the main target catalogues (split by hpx).\n",
    "    paths=glob.glob('/global/cfs/cdirs/desi/target/catalogs/dr9/0.49.0/targets/main/resolve/{}/targets-{}-hp-*.fits'.format(survey, survey))\n",
    "            \n",
    "    if verbose:\n",
    "        print(len(paths))\n",
    "            \n",
    "    # Take a random sample of size hpx, seeded above.\n",
    "    samples = np.random.choice(paths, size=npix, replace=False)    \n",
    "    catalog = None\n",
    "    \n",
    "    # Fetch the hpx in the sample and stack to a catalog.\n",
    "    for sample in samples:\n",
    "        dat = fits.open(sample)[1].data    \n",
    "    \n",
    "        if base_type == 'BGS':\n",
    "            isin = (dat['DESI_TARGET'] & desi_mask['BGS_ANY']) != 0\n",
    "            isin = isin & ((dat['BGS_TARGET'] & bgs_mask[tracer_type]) != 0)\n",
    "        \n",
    "        else:\n",
    "            isin = (dat['DESI_TARGET'] & desi_mask[tracer_type]) != 0\n",
    "        \n",
    "        if verbose:\n",
    "            print(os.path.basename(sample), np.count_nonzero(isin))\n",
    "    \n",
    "        dat = Table(dat[isin])\n",
    "    \n",
    "        if catalog is None:\n",
    "            catalog = dat\n",
    "        else:\n",
    "            catalog = vstack((catalog, dat))\n",
    "            \n",
    "    print('Compiled {} {} target catalog from {} hpx.'.format(len(catalog), tracer_type, npix))\n",
    "            \n",
    "    return catalog"
   ]
  },
  {
   "cell_type": "code",
   "execution_count": 29,
   "metadata": {},
   "outputs": [],
   "source": [
    "def prod_fetch(prod='blanc', dX2=25., verbose=False):\n",
    "    '''\n",
    "    Return a spectroscopic catalog of all SV1 target type in the deep fields in a given prod. \n",
    "    Note:  Adds MW_TRANS*\n",
    "    '''\n",
    "    \n",
    "    base_type = tracer_type.split('_')[0]\n",
    "    \n",
    "    # Representative SV1 type to map to a main survey type. \n",
    "    _tracer_type = sv1_map[tracer_type]\n",
    "        \n",
    "    # Fetch the sv1 target catalogues (split by hpx).\n",
    "    paths=glob.glob('/global/cfs/cdirs/desi/spectro/redux/{}/tiles/*/deep/zbest-*.fits'.format(prod))\n",
    "    \n",
    "    if verbose:\n",
    "        print(len(paths))\n",
    "    \n",
    "    catalog = None\n",
    "    \n",
    "    # \n",
    "    comments = {'80615': 'Missing SV1_DESI_TARGET'}\n",
    "    ignore   = list(comments.keys())\n",
    "\n",
    "    # Targeting cols required.\n",
    "    cols     = ['TARGETID', 'SV1_DESI_TARGET', 'SV1_BGS_TARGET', 'EBV', 'PHOTSYS']\n",
    "        \n",
    "    for band in ['G', 'R', 'Z']:\n",
    "        cols.append('FLUX_{}'.format(band))\n",
    "        cols.append('FIBERFLUX_{}'.format(band))\n",
    "    \n",
    "    # Fetch the hpx in the sample and stack to a catalog.\n",
    "    for sample in paths:\n",
    "        zbest = Table.read(sample, 'ZBEST')   \n",
    "        fmap = Table.read(sample, 'FIBERMAP')\n",
    "\n",
    "        tileid = os.path.basename(sample).split('-')[2]\n",
    "\n",
    "        if tileid in ignore:\n",
    "            print('Ignoring {}'.format(tileid))\n",
    "            continue\n",
    "\n",
    "        # Targeting info. for this petal; discarding replicates for N>>1 exp.\n",
    "        ufmap = unique(fmap, 'TARGETID')\n",
    "        ufmap = ufmap[cols]\n",
    "        ufmap['TILEID'] = tileid\n",
    "        \n",
    "        assert len(zbest) == len(ufmap)\n",
    "        \n",
    "        dat = join(zbest, ufmap, join_type='left', keys='TARGETID')\n",
    "\n",
    "        try:\n",
    "            if base_type == 'BGS':\n",
    "                isin = (dat['SV1_DESI_TARGET'] & sv1_desi_mask['BGS_ANY']) != 0\n",
    "                isin = isin & ((dat['SV1_BGS_TARGET'] & sv1_bgs_mask[_tracer_type]) != 0)\n",
    "        \n",
    "            else:\n",
    "                isin = (dat['SV1_DESI_TARGET'] & sv1_desi_mask[_tracer_type]) != 0\n",
    "    \n",
    "            isin = isin & (dat['ZWARN'] == 0) & (dat['DELTACHI2'] > dX2)    \n",
    "            \n",
    "            if verbose:\n",
    "                print(os.path.basename(sample), len(dat), np.count_nonzero(isin))\n",
    "            \n",
    "            dat = dat[isin]\n",
    "            \n",
    "        except:\n",
    "            print('Failed on {}'.format(sample))\n",
    "            \n",
    "            dat.pprint()\n",
    "            \n",
    "            continue\n",
    "\n",
    "        for band in ['G', 'R', 'Z']:\n",
    "            dat['MW_TRANSMISSION_{}'.format(band)] = mwdust_transmission(dat['EBV'], band, dat['PHOTSYS'].data.astype(str))\n",
    "            \n",
    "        if catalog is None:\n",
    "            catalog = dat\n",
    "        else:\n",
    "            catalog = vstack((catalog, dat))\n",
    "            \n",
    "    print('\\nCompiled {}M {} redshift truth catalog from tiles:\\n{}.'.format(len(catalog) / 1.e6, _tracer_type, np.unique(catalog['TILEID'].data)))\n",
    "            \n",
    "    return  catalog"
   ]
  },
  {
   "cell_type": "code",
   "execution_count": 30,
   "metadata": {},
   "outputs": [],
   "source": [
    "def target_reduce(dat, config):\n",
    "    '''\n",
    "    Inputs:\n",
    "        dat: Input targeting catalog.    \n",
    "        config: dictionary to be updated. \n",
    "    \n",
    "    Results:\n",
    "        Updates config with data derived tsensemble properties. \n",
    "    '''\n",
    "    base_type    = tracer_type.split('_')[0]\n",
    "    lim_band     = limiting_band[base_type].upper() \n",
    "    \n",
    "    drflx        = dat['FLUX_{}'.format(lim_band)] / dat['MW_TRANSMISSION_{}'.format(lim_band)]\n",
    "    drfibflx     = dat['FIBERFLUX_{}'.format(lim_band)] / dat['MW_TRANSMISSION_{}'.format(lim_band)]\n",
    "    \n",
    "    drmag        = 22.5 - 2.5 * np.log10(drflx)\n",
    "    drfibmag     = 22.5 - 2.5 * np.log10(drfibflx) \n",
    "    \n",
    "    print('{} Catalog length: {:.1f}M'.format(tracer_type, len(dat) / 1.e6))\n",
    "    \n",
    "    med_mag      = np.median(drmag)\n",
    "    med_fibmag   = np.median(drfibmag)\n",
    "    \n",
    "    limit_mag    = np.percentile(drmag, 99.)\n",
    "    limit_fibmag = np.percentile(drfibmag, 99.)\n",
    "    \n",
    "    print('Median mag. in {} band: {:.2f}'.format(lim_band, med_mag))\n",
    "    print('Median fib. mag. in {} band: {:.2f}'.format(lim_band, med_fibmag))\n",
    "    \n",
    "    print('Limiting mag. in {} band: {:.2f}'.format(lim_band, limit_mag))\n",
    "    print('Limiting fib. mag. in {} band: {:.2f}'.format(lim_band, limit_fibmag))\n",
    "        \n",
    "    config['filter'] = 'decam2014-{}'.format(lim_band.lower())\n",
    "    config['med_mag'] = np.round(med_mag, 3)\n",
    "    config['limit_mag'] = np.round(limit_mag, 3)\n",
    "    \n",
    "    config['med_fibmag'] = np.round(med_fibmag, 3)\n",
    "    config['limit_fibmag'] = np.round(limit_fibmag, 3)\n",
    "\n",
    "    # Limit to the 50% faintest targets in reference magnitudes. \n",
    "    isin         = (drmag > med_mag) & (drmag < limit_mag)\n",
    "    dat          = dat[isin]\n",
    "    \n",
    "    # Counts of a given morphtype.\n",
    "    mtypes, cnts = np.unique(dat['MORPHTYPE'], return_counts=True)\n",
    "    flosses      = []\n",
    "\n",
    "    for i, mtype in enumerate(mtypes):\n",
    "        is_type = (dat['MORPHTYPE'] == mtype)\n",
    "        type_floss = np.median(drfibflx[isin][is_type] / drflx[isin][is_type])\n",
    "\n",
    "        flosses.append(type_floss)\n",
    "        \n",
    "        print('{} fiber flux loss: {:.2f} for {:.2f} fraction'.format(mtype, type_floss, cnts[i] / len(dat)))\n",
    "\n",
    "        config['{}_frac'.format(mtype.lower())] = cnts[i] / len(dat)\n",
    "        config['{}_fiberloss'.format(mtype.lower())] = -2.5* np.log10(type_floss)\n",
    "        \n",
    "    flosses = np.array(flosses)\n",
    "    floss = np.average(flosses, weights=cnts)\n",
    "    \n",
    "    print('Weighted fiber flux loss: {:.2f}'.format(floss))\n",
    "    print('Weighted fiber flux loss: {:.2f} mags'.format(-2.5 * np.log10(floss)))\n",
    "        \n",
    "    config['wgt_fiberloss'] = np.round(-2.5 * np.log10(floss), 3)\n",
    "        \n",
    "    pl.hist(drmag, bins=100)\n",
    "        \n",
    "    pl.axvline(med_mag, c='k', lw=0.4)\n",
    "    pl.axvline(limit_mag, c='k', lw=0.4)"
   ]
  },
  {
   "cell_type": "code",
   "execution_count": 50,
   "metadata": {},
   "outputs": [],
   "source": [
    "def redshift_reduce(dat, config):\n",
    "    '''\n",
    "    Input catalog: dat.    \n",
    "    '''\n",
    "    base_type      = tracer_type.split('_')[0]\n",
    "    lim_band       = limiting_band[base_type].upper() \n",
    "    \n",
    "    drflx          = dat['FLUX_{}'.format(lim_band)] / dat['MW_TRANSMISSION_{}'.format(lim_band)]\n",
    "    drfibflx       = dat['FIBERFLUX_{}'.format(lim_band)] / dat['MW_TRANSMISSION_{}'.format(lim_band)]\n",
    "    \n",
    "    drmag          = 22.5 - 2.5 * np.log10(drflx)\n",
    "    drfibmag       = 22.5 - 2.5 * np.log10(drfibflx) \n",
    "    \n",
    "    print('{} Catalog length: {:.1f}M'.format(tracer_type, len(dat) / 1.e6))\n",
    "     \n",
    "    med_mag        = np.float64(config['med_mag']) \n",
    "    limit_mag      = np.float64(config['limit_mag'])\n",
    "        \n",
    "    print('Median mag. in {} band: {:.2f}'.format(lim_band, med_mag))\n",
    "    print('Limiting mag. in {} band: {:.2f}'.format(lim_band, limit_mag))\n",
    "        \n",
    "    # Cut to 50% faintest in the respective band.\n",
    "    isin           = (drmag > med_mag) & (drmag < limit_mag)\n",
    "    \n",
    "    dat            = dat[isin]\n",
    "\n",
    "    zlo            = np.percentile(dat['Z'], 15)\n",
    "    zhi            = np.percentile(dat['Z'], 85)\n",
    "\n",
    "    config['zlo']  = np.round(zlo, 3)\n",
    "    config['zhi']  = np.round(zhi, 3)\n",
    "        \n",
    "    meta           = Table(np.c_[dat['Z'], drmag[isin], drfibmag[isin]], names=['REDSHIFT', 'MAG', 'FIBMAG']) \n",
    "    meta['FILTER'] = lim_band\n",
    "    meta['TRACER'] = base_type.upper()\n",
    "    \n",
    "    pl.hist(dat['Z'], bins=200)\n",
    "                \n",
    "    pl.axvline(zlo, c='k', lw=0.4)\n",
    "    pl.axvline(zhi, c='k', lw=0.4)\n",
    "            \n",
    "    pl.xlim(0.0, 2.0)\n",
    "    \n",
    "    return meta"
   ]
  },
  {
   "cell_type": "code",
   "execution_count": 32,
   "metadata": {},
   "outputs": [
    {
     "name": "stdout",
     "output_type": "stream",
     "text": [
      "Compiled 455713 LRG target catalog from 20 hpx.\n"
     ]
    }
   ],
   "source": [
    "imaging_catalog = imaging_fetch()"
   ]
  },
  {
   "cell_type": "code",
   "execution_count": 33,
   "metadata": {},
   "outputs": [
    {
     "name": "stdout",
     "output_type": "stream",
     "text": [
      "Ignoring 80615\n",
      "Ignoring 80615\n",
      "Ignoring 80615\n",
      "Ignoring 80615\n",
      "Ignoring 80615\n",
      "Ignoring 80615\n",
      "Ignoring 80615\n",
      "Ignoring 80615\n",
      "Ignoring 80615\n",
      "Ignoring 80615\n",
      "\n",
      "Compiled 0.003963M LRG_IR redshift truth catalog from tiles:\n",
      "['80605' '80606' '80607' '80608' '80609' '80610' '80611' '80612' '80613'\n",
      " '80614' '80616' '80617' '80618' '80619' '80620' '80621' '80622' '80623'].\n"
     ]
    }
   ],
   "source": [
    "spec_catalog = prod_fetch()"
   ]
  },
  {
   "cell_type": "code",
   "execution_count": 34,
   "metadata": {},
   "outputs": [],
   "source": [
    "config = {'tracer': tracer_type, 'sv1_tracer': sv1_map[tracer_type]}"
   ]
  },
  {
   "cell_type": "code",
   "execution_count": 35,
   "metadata": {},
   "outputs": [
    {
     "name": "stdout",
     "output_type": "stream",
     "text": [
      "LRG Catalog length: 0.5M\n",
      "Median mag. in Z band: 19.81\n",
      "Median fib. mag. in Z band: 20.81\n",
      "Limiting mag. in Z band: 21.03\n",
      "Limiting fib. mag. in Z band: 21.49\n",
      "DEV fiber flux loss: 0.44 for 0.48 fraction\n",
      "EXP fiber flux loss: 0.49 for 0.07 fraction\n",
      "PSF fiber flux loss: 0.78 for 0.03 fraction\n",
      "REX fiber flux loss: 0.59 for 0.41 fraction\n",
      "SER fiber flux loss: 0.38 for 0.01 fraction\n",
      "Weighted fiber flux loss: 0.52\n",
      "Weighted fiber flux loss: 0.72 mags\n"
     ]
    },
    {
     "data": {
      "image/png": "[encoded data removed]",
      "text/plain": [
       "<Figure size 432x288 with 1 Axes>"
      ]
     },
     "metadata": {
      "needs_background": "light"
     },
     "output_type": "display_data"
    }
   ],
   "source": [
    "target_reduce(imaging_catalog, config)"
   ]
  },
  {
   "cell_type": "code",
   "execution_count": 36,
   "metadata": {},
   "outputs": [
    {
     "data": {
      "text/plain": [
       "{'filter': 'decam2014-z',\n",
       " 'med_mag': 19.81,\n",
       " 'limit_mag': 21.033,\n",
       " 'med_fibmag': 20.806,\n",
       " 'limit_fibmag': 21.488,\n",
       " 'dev_frac': 0.47571172026493863,\n",
       " 'dev_fiberloss': 0.8865542709827423,\n",
       " 'exp_frac': 0.06980837180974218,\n",
       " 'exp_fiberloss': 0.7718328386545181,\n",
       " 'psf_frac': 0.034147346359333086,\n",
       " 'psf_fiberloss': 0.2720675803720951,\n",
       " 'rex_frac': 0.4068079732374371,\n",
       " 'rex_fiberloss': 0.5696896091103554,\n",
       " 'ser_frac': 0.013524588328548973,\n",
       " 'ser_fiberloss': 1.042807176709175,\n",
       " 'wgt_fiberloss': 0.716}"
      ]
     },
     "execution_count": 36,
     "metadata": {},
     "output_type": "execute_result"
    }
   ],
   "source": [
    "config"
   ]
  },
  {
   "cell_type": "code",
   "execution_count": 47,
   "metadata": {},
   "outputs": [
    {
     "name": "stdout",
     "output_type": "stream",
     "text": [
      "LRG Catalog length: 0.0M\n",
      "Median mag. in Z band: 19.81\n",
      "Limiting mag. in Z band: 21.03\n"
     ]
    },
    {
     "data": {
      "image/png": "[encoded data removed]",
      "text/plain": [
       "<Figure size 432x288 with 1 Axes>"
      ]
     },
     "metadata": {
      "needs_background": "light"
     },
     "output_type": "display_data"
    }
   ],
   "source": [
    "meta = redshift_reduce(spec_catalog, config)"
   ]
  },
  {
   "cell_type": "code",
   "execution_count": 48,
   "metadata": {},
   "outputs": [
    {
     "data": {
      "text/html": [
       "<i>Table length=1057</i>\n",
       "<table id=\"table46913254341072\" class=\"table-striped table-bordered table-condensed\">\n",
       "<thead><tr><th>REDSHIFT</th><th>MAG</th><th>FIBMAG</th><th>FILTER</th><th>TRACER</th></tr></thead>\n",
       "<thead><tr><th>float64</th><th>float64</th><th>float64</th><th>str1</th><th>str3</th></tr></thead>\n",
       "<tr><td>0.7604486225485104</td><td>20.058389342244226</td><td>20.330080682063297</td><td>Z</td><td>LRG</td></tr>\n",
       "<tr><td>0.7384974434468897</td><td>20.264457108362812</td><td>20.989814510797107</td><td>Z</td><td>LRG</td></tr>\n",
       "<tr><td>0.9528703447598573</td><td>20.13114923882458</td><td>20.98195185944919</td><td>Z</td><td>LRG</td></tr>\n",
       "<tr><td>0.6926018668493598</td><td>19.852196048856133</td><td>20.761869627201328</td><td>Z</td><td>LRG</td></tr>\n",
       "<tr><td>1.2097123309566762</td><td>20.997549007876483</td><td>21.46760640815211</td><td>Z</td><td>LRG</td></tr>\n",
       "<tr><td>0.772122138226202</td><td>19.903436602113697</td><td>20.93742268008136</td><td>Z</td><td>LRG</td></tr>\n",
       "<tr><td>0.8444390237292401</td><td>20.436889331919808</td><td>21.416436151708403</td><td>Z</td><td>LRG</td></tr>\n",
       "<tr><td>0.8520433734868167</td><td>20.82256851061308</td><td>21.39900062120581</td><td>Z</td><td>LRG</td></tr>\n",
       "<tr><td>0.9120544924033651</td><td>20.059227946249013</td><td>20.647289470342418</td><td>Z</td><td>LRG</td></tr>\n",
       "<tr><td>0.669035558000303</td><td>20.52143840976349</td><td>21.460444037125722</td><td>Z</td><td>LRG</td></tr>\n",
       "<tr><td>...</td><td>...</td><td>...</td><td>...</td><td>...</td></tr>\n",
       "<tr><td>0.6741894041827813</td><td>19.91048570833531</td><td>20.592839495416577</td><td>Z</td><td>LRG</td></tr>\n",
       "<tr><td>0.727406389288169</td><td>20.325456223087706</td><td>20.824828380190485</td><td>Z</td><td>LRG</td></tr>\n",
       "<tr><td>0.8677569600499611</td><td>20.452165005935402</td><td>21.190780249378008</td><td>Z</td><td>LRG</td></tr>\n",
       "<tr><td>0.8574160833215437</td><td>20.692749900921005</td><td>21.46926720888392</td><td>Z</td><td>LRG</td></tr>\n",
       "<tr><td>0.8877734500495233</td><td>20.340817196364277</td><td>20.98701536750085</td><td>Z</td><td>LRG</td></tr>\n",
       "<tr><td>1.0871415952274468</td><td>20.305191951698713</td><td>21.441842100182175</td><td>Z</td><td>LRG</td></tr>\n",
       "<tr><td>0.7771434389767964</td><td>20.652025927442942</td><td>21.289179988388902</td><td>Z</td><td>LRG</td></tr>\n",
       "<tr><td>1.160328677313588</td><td>20.847724062405906</td><td>21.336513250843204</td><td>Z</td><td>LRG</td></tr>\n",
       "<tr><td>0.5642014954740705</td><td>19.844343166709333</td><td>20.250029130449086</td><td>Z</td><td>LRG</td></tr>\n",
       "<tr><td>0.8222033137480987</td><td>19.89480460318567</td><td>20.166324423692902</td><td>Z</td><td>LRG</td></tr>\n",
       "</table>"
      ],
      "text/plain": [
       "<Table length=1057>\n",
       "     REDSHIFT             MAG               FIBMAG       FILTER TRACER\n",
       "     float64            float64            float64        str1   str3 \n",
       "------------------ ------------------ ------------------ ------ ------\n",
       "0.7604486225485104 20.058389342244226 20.330080682063297      Z    LRG\n",
       "0.7384974434468897 20.264457108362812 20.989814510797107      Z    LRG\n",
       "0.9528703447598573  20.13114923882458  20.98195185944919      Z    LRG\n",
       "0.6926018668493598 19.852196048856133 20.761869627201328      Z    LRG\n",
       "1.2097123309566762 20.997549007876483  21.46760640815211      Z    LRG\n",
       " 0.772122138226202 19.903436602113697  20.93742268008136      Z    LRG\n",
       "0.8444390237292401 20.436889331919808 21.416436151708403      Z    LRG\n",
       "0.8520433734868167  20.82256851061308  21.39900062120581      Z    LRG\n",
       "0.9120544924033651 20.059227946249013 20.647289470342418      Z    LRG\n",
       " 0.669035558000303  20.52143840976349 21.460444037125722      Z    LRG\n",
       "               ...                ...                ...    ...    ...\n",
       "0.6741894041827813  19.91048570833531 20.592839495416577      Z    LRG\n",
       " 0.727406389288169 20.325456223087706 20.824828380190485      Z    LRG\n",
       "0.8677569600499611 20.452165005935402 21.190780249378008      Z    LRG\n",
       "0.8574160833215437 20.692749900921005  21.46926720888392      Z    LRG\n",
       "0.8877734500495233 20.340817196364277  20.98701536750085      Z    LRG\n",
       "1.0871415952274468 20.305191951698713 21.441842100182175      Z    LRG\n",
       "0.7771434389767964 20.652025927442942 21.289179988388902      Z    LRG\n",
       " 1.160328677313588 20.847724062405906 21.336513250843204      Z    LRG\n",
       "0.5642014954740705 19.844343166709333 20.250029130449086      Z    LRG\n",
       "0.8222033137480987  19.89480460318567 20.166324423692902      Z    LRG"
      ]
     },
     "execution_count": 48,
     "metadata": {},
     "output_type": "execute_result"
    }
   ],
   "source": [
    "meta"
   ]
  },
  {
   "cell_type": "code",
   "execution_count": 49,
   "metadata": {},
   "outputs": [],
   "source": [
    "meta.write(outdir + 'meta_{}.fits'.format(tracer_type.split('_')[0]), format='fits', overwrite=True)"
   ]
  },
  {
   "cell_type": "code",
   "execution_count": 38,
   "metadata": {},
   "outputs": [],
   "source": [
    "keys = config.keys()"
   ]
  },
  {
   "cell_type": "code",
   "execution_count": 39,
   "metadata": {},
   "outputs": [],
   "source": [
    "for key in keys:    \n",
    "    if type(config[key]) != str:\n",
    "        config[key] = round(float(config[key]), 3)"
   ]
  },
  {
   "cell_type": "code",
   "execution_count": 40,
   "metadata": {},
   "outputs": [
    {
     "data": {
      "text/plain": [
       "{'filter': 'decam2014-z',\n",
       " 'med_mag': 19.81,\n",
       " 'limit_mag': 21.033,\n",
       " 'med_fibmag': 20.806,\n",
       " 'limit_fibmag': 21.488,\n",
       " 'dev_frac': 0.476,\n",
       " 'dev_fiberloss': 0.887,\n",
       " 'exp_frac': 0.07,\n",
       " 'exp_fiberloss': 0.772,\n",
       " 'psf_frac': 0.034,\n",
       " 'psf_fiberloss': 0.272,\n",
       " 'rex_frac': 0.407,\n",
       " 'rex_fiberloss': 0.57,\n",
       " 'ser_frac': 0.014,\n",
       " 'ser_fiberloss': 1.043,\n",
       " 'wgt_fiberloss': 0.716,\n",
       " 'zlo': 0.685,\n",
       " 'zhi': 0.966}"
      ]
     },
     "execution_count": 40,
     "metadata": {},
     "output_type": "execute_result"
    }
   ],
   "source": [
    "config"
   ]
  },
  {
   "cell_type": "code",
   "execution_count": 41,
   "metadata": {},
   "outputs": [],
   "source": [
    "with open(outdir + '/tsnr-config-{}.yaml'.format(tracer_type.lower().split('_')[0]), 'w') as outfile:\n",
    "    yaml.dump(config, outfile, default_flow_style=False)"
   ]
  },
  {
   "cell_type": "markdown",
   "metadata": {},
   "source": [
    "## Done"
   ]
  }
 ],
 "metadata": {
  "kernelspec": {
   "display_name": "DESI master",
   "language": "python",
   "name": "desi-master"
  },
  "language_info": {
   "codemirror_mode": {
    "name": "ipython",
    "version": 3
   },
   "file_extension": ".py",
   "mimetype": "text/x-python",
   "name": "python",
   "nbconvert_exporter": "python",
   "pygments_lexer": "ipython3",
   "version": "3.8.3"
  }
 },
 "nbformat": 4,
 "nbformat_minor": 4
}
